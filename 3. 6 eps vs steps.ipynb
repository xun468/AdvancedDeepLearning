{
 "cells": [
  {
   "cell_type": "code",
   "execution_count": 1,
   "metadata": {},
   "outputs": [
    {
     "name": "stderr",
     "output_type": "stream",
     "text": [
      "Using TensorFlow backend.\n"
     ]
    }
   ],
   "source": [
    "from art.utils import load_dataset\n",
    "from art.classifiers import KerasClassifier\n",
    "from art.attacks import FastGradientMethod, ProjectedGradientDescent\n",
    "from keras import applications\n",
    "from keras.models import load_model\n",
    "from Generator import Generator\n",
    "import matplotlib.pyplot as plt\n",
    "\n",
    "from torch_pgd import pgd_attack\n",
    "from utils import get_pretrained_model\n",
    "\n",
    "import numpy as np\n",
    "\n",
    "from PIL import Image\n",
    "import torchvision.transforms as transforms"
   ]
  },
  {
   "cell_type": "code",
   "execution_count": 2,
   "metadata": {},
   "outputs": [],
   "source": [
    "def tensor2pic(ImA, pop_img=False, save=False, name=\"pil_image.png\", verbose=False):\n",
    "    ImA = ImA[0].numpy()\n",
    "    ImA = ImA.transpose(1, 2, 0)\n",
    "    img = Image.fromarray(np.uint8(ImA * 255), 'RGB')\n",
    "    if save:\n",
    "        if verbose:\n",
    "            print(\"Storing image:\", name)\n",
    "        img.save(name)\n",
    "    if pop_img:\n",
    "        img.show()\n",
    "    else:\n",
    "        return img"
   ]
  },
  {
   "cell_type": "code",
   "execution_count": 3,
   "metadata": {},
   "outputs": [],
   "source": [
    "_, model = get_pretrained_model('RestrictedImageNet')\n",
    "model.eval()\n",
    "pass"
   ]
  },
  {
   "cell_type": "code",
   "execution_count": 4,
   "metadata": {},
   "outputs": [],
   "source": [
    "#Adv attack\n",
    "norm = 'l2'\n",
    "step_size = 0.1\n",
    "targeted = True\n",
    "target_class = 0"
   ]
  },
  {
   "cell_type": "code",
   "execution_count": 5,
   "metadata": {},
   "outputs": [],
   "source": [
    "epsilons = [10, 30, 50, 100, 250]\n",
    "steps_ = [1, 3, 5, 10, 25]"
   ]
  },
  {
   "cell_type": "code",
   "execution_count": 6,
   "metadata": {},
   "outputs": [],
   "source": [
    "# Saving\n",
    "save_path = \"Results/para2/\"\n",
    "title = \"16_\"\n",
    "save = True"
   ]
  },
  {
   "cell_type": "code",
   "execution_count": 7,
   "metadata": {},
   "outputs": [],
   "source": [
    "generator = Generator()\n",
    "generator.calc_class_stats()"
   ]
  },
  {
   "cell_type": "code",
   "execution_count": 8,
   "metadata": {},
   "outputs": [],
   "source": [
    "imA = Image.open(\"primat.jpg\")\n",
    "imA = imA.convert(\"RGB\")\n",
    "img_tA = transforms.ToTensor()(imA).view(1, 3, 224, 224)"
   ]
  },
  {
   "cell_type": "code",
   "execution_count": 9,
   "metadata": {},
   "outputs": [
    {
     "name": "stdout",
     "output_type": "stream",
     "text": [
      "Doing iter 0......Done!\n",
      "Doing iter 1......Done!\n",
      "Doing iter 2......Done!\n",
      "Doing iter 3......Done!\n",
      "Doing iter 4......Done!\n"
     ]
    }
   ],
   "source": [
    "for i in range(len(epsilons)):\n",
    "    print(\"Doing iter {}.\".format(i), end='')\n",
    "    for j in range(len(steps_)):\n",
    "        print(\".\", end=\"\")\n",
    "        \n",
    "        eps = epsilons[i]\n",
    "        steps = steps_[j]\n",
    "        \n",
    "        out_img = pgd_attack(img_tA, eps, model=model, steps=steps, step_size=step_size, \n",
    "                            targeted_attack=True, target_class=target_class, \n",
    "                            norm=norm, verbose=False)\n",
    "                \n",
    "        prob = np.array([[0., 0., 0., 0., 0., 0., 0., 0., 0., 0.]])\n",
    "        prob[0,target_class]=1.\n",
    "        \n",
    "        tensor2pic(out_img, save=True, name=save_path+title+str(eps)+'-'+str(steps)+'_gen'+\".png\", verbose=False) \n",
    "        \n",
    "    print(\"Done!\")"
   ]
  }
 ],
 "metadata": {
  "kernelspec": {
   "display_name": "Python 3",
   "language": "python",
   "name": "python3"
  },
  "language_info": {
   "codemirror_mode": {
    "name": "ipython",
    "version": 3
   },
   "file_extension": ".py",
   "mimetype": "text/x-python",
   "name": "python",
   "nbconvert_exporter": "python",
   "pygments_lexer": "ipython3",
   "version": "3.6.8"
  },
  "varInspector": {
   "cols": {
    "lenName": 16,
    "lenType": 16,
    "lenVar": 40
   },
   "kernels_config": {
    "python": {
     "delete_cmd_postfix": "",
     "delete_cmd_prefix": "del ",
     "library": "var_list.py",
     "varRefreshCmd": "print(var_dic_list())"
    },
    "r": {
     "delete_cmd_postfix": ") ",
     "delete_cmd_prefix": "rm(",
     "library": "var_list.r",
     "varRefreshCmd": "cat(var_dic_list()) "
    }
   },
   "types_to_exclude": [
    "module",
    "function",
    "builtin_function_or_method",
    "instance",
    "_Feature"
   ],
   "window_display": false
  }
 },
 "nbformat": 4,
 "nbformat_minor": 2
}
