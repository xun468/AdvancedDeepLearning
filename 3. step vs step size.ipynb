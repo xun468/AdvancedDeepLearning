{
 "cells": [
  {
   "cell_type": "code",
   "execution_count": 1,
   "metadata": {},
   "outputs": [
    {
     "name": "stderr",
     "output_type": "stream",
     "text": [
      "Using TensorFlow backend.\n"
     ]
    }
   ],
   "source": [
    "from art.utils import load_dataset\n",
    "from art.classifiers import KerasClassifier\n",
    "from art.attacks import FastGradientMethod, ProjectedGradientDescent\n",
    "from keras import applications\n",
    "from keras.models import load_model\n",
    "from Generator import Generator\n",
    "import matplotlib.pyplot as plt\n",
    "\n",
    "from torch_pgd import pgd_attack\n",
    "from utils import get_pretrained_model\n",
    "\n",
    "import numpy as np\n",
    "\n",
    "from PIL import Image\n",
    "import torchvision.transforms as transforms"
   ]
  },
  {
   "cell_type": "code",
   "execution_count": 2,
   "metadata": {},
   "outputs": [],
   "source": [
    "def tensor2pic(ImA, pop_img=False, save=False, name=\"pil_image.png\", verbose=False):\n",
    "    ImA = ImA[0].numpy()\n",
    "    ImA = ImA.transpose(1, 2, 0)\n",
    "    img = Image.fromarray(np.uint8(ImA * 255), 'RGB')\n",
    "    if save:\n",
    "        if verbose:\n",
    "            print(\"Storing image:\", name)\n",
    "        img.save(name)\n",
    "    if pop_img:\n",
    "        img.show()\n",
    "    else:\n",
    "        return img"
   ]
  },
  {
   "cell_type": "code",
   "execution_count": 3,
   "metadata": {},
   "outputs": [],
   "source": [
    "_, model = get_pretrained_model('RestrictedImageNet')\n",
    "model.eval()\n",
    "pass"
   ]
  },
  {
   "cell_type": "code",
   "execution_count": 4,
   "metadata": {},
   "outputs": [],
   "source": [
    "#Adv attack\n",
    "norm = 'l2'\n",
    "step_size = 0.1\n",
    "eps = 100\n",
    "targeted = True\n",
    "target_class = 4"
   ]
  },
  {
   "cell_type": "code",
   "execution_count": 5,
   "metadata": {},
   "outputs": [],
   "source": [
    "step_sizes = []\n",
    "steps_ = [1, 2, 3, 4, 5, 6, 7, 8, 9, 10]"
   ]
  },
  {
   "cell_type": "code",
   "execution_count": 6,
   "metadata": {},
   "outputs": [],
   "source": [
    "# Saving\n",
    "save_path = \"Results/steps/\"\n",
    "title = \"6_\"\n",
    "save = True"
   ]
  },
  {
   "cell_type": "code",
   "execution_count": 7,
   "metadata": {},
   "outputs": [],
   "source": [
    "imA = Image.open(\"catboi.jpg\")\n",
    "imA = imA.convert(\"RGB\")\n",
    "img_tA = transforms.ToTensor()(imA).view(1, 3, 224, 224)"
   ]
  },
  {
   "cell_type": "code",
   "execution_count": 8,
   "metadata": {},
   "outputs": [],
   "source": [
    "for i in range(10):\n",
    "    out_img = pgd_attack(img_tA, eps, model=model, steps=(i+1), step_size=step_size, \n",
    "                            targeted_attack=True, target_class=target_class, \n",
    "                            norm=norm, verbose=False)\n",
    "    tensor2pic(out_img, save=True, name=save_path+title+str(i)+'UNA'+\".png\", verbose=False)\n",
    "\n",
    "for i in range(20):\n",
    "    out_img = pgd_attack(img_tA, eps, model=model, steps=(i+1), step_size=step_size/2, \n",
    "                            targeted_attack=True, target_class=target_class, \n",
    "                            norm=norm, verbose=False)\n",
    "    tensor2pic(out_img, save=True, name=save_path+title+str(i)+'DOS'+\".png\", verbose=False)\n",
    "    \n",
    "for i in range(30):\n",
    "    out_img = pgd_attack(img_tA, eps, model=model, steps=(i+1), step_size=step_size/10, \n",
    "                            targeted_attack=True, target_class=target_class, \n",
    "                            norm=norm, verbose=False)\n",
    "    tensor2pic(out_img, save=True, name=save_path+title+str(i)+'TRE'+\".png\", verbose=False)"
   ]
  }
 ],
 "metadata": {
  "kernelspec": {
   "display_name": "Python 3",
   "language": "python",
   "name": "python3"
  },
  "language_info": {
   "codemirror_mode": {
    "name": "ipython",
    "version": 3
   },
   "file_extension": ".py",
   "mimetype": "text/x-python",
   "name": "python",
   "nbconvert_exporter": "python",
   "pygments_lexer": "ipython3",
   "version": "3.6.8"
  },
  "varInspector": {
   "cols": {
    "lenName": 16,
    "lenType": 16,
    "lenVar": 40
   },
   "kernels_config": {
    "python": {
     "delete_cmd_postfix": "",
     "delete_cmd_prefix": "del ",
     "library": "var_list.py",
     "varRefreshCmd": "print(var_dic_list())"
    },
    "r": {
     "delete_cmd_postfix": ") ",
     "delete_cmd_prefix": "rm(",
     "library": "var_list.r",
     "varRefreshCmd": "cat(var_dic_list()) "
    }
   },
   "types_to_exclude": [
    "module",
    "function",
    "builtin_function_or_method",
    "instance",
    "_Feature"
   ],
   "window_display": false
  }
 },
 "nbformat": 4,
 "nbformat_minor": 2
}
