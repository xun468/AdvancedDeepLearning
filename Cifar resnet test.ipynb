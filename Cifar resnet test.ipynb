{
 "cells": [
  {
   "cell_type": "code",
   "execution_count": 28,
   "metadata": {},
   "outputs": [],
   "source": [
    "import tensorflow as tf\n",
    "from keras.datasets import cifar10\n",
    "from keras import backend as K\n",
    "import keras\n",
    "from keras.models import load_model\n",
    "from keras.applications import resnet50\n",
    "\n",
    "import matplotlib.pyplot as plt\n",
    "import numpy as np"
   ]
  },
  {
   "cell_type": "code",
   "execution_count": 29,
   "metadata": {},
   "outputs": [],
   "source": [
    "(x_train, y_train), (x_test, y_test) = cifar10.load_data()\n",
    "x_train = x_train.astype('float32')\n",
    "x_test = x_test.astype('float32')\n",
    "x_train /= 255\n",
    "x_test /= 255"
   ]
  },
  {
   "cell_type": "code",
   "execution_count": 37,
   "metadata": {},
   "outputs": [
    {
     "data": {
      "text/plain": [
       "<matplotlib.image.AxesImage at 0x18d47ff7a90>"
      ]
     },
     "execution_count": 37,
     "metadata": {},
     "output_type": "execute_result"
    },
    {
     "data": {
      "image/png": "[encoded data removed]",
      "text/plain": [
       "<Figure size 432x288 with 1 Axes>"
      ]
     },
     "metadata": {
      "needs_background": "light"
     },
     "output_type": "display_data"
    }
   ],
   "source": [
    "plt.imshow(x_train[3])"
   ]
  },
  {
   "cell_type": "code",
   "execution_count": 31,
   "metadata": {},
   "outputs": [
    {
     "data": {
      "text/plain": [
       "(32, 32, 3)"
      ]
     },
     "execution_count": 31,
     "metadata": {},
     "output_type": "execute_result"
    }
   ],
   "source": [
    "x_train[0].shape"
   ]
  },
  {
   "cell_type": "code",
   "execution_count": 32,
   "metadata": {},
   "outputs": [],
   "source": [
    "l_model = load_model('cifar_model_test.h5')\n",
    "l_model.trainable = False\n",
    "\n",
    "def_model = tf.keras.applications.ResNet50(include_top=True, weights='imagenet')\n",
    "def_model.trainable = False"
   ]
  },
  {
   "cell_type": "code",
   "execution_count": 38,
   "metadata": {},
   "outputs": [
    {
     "name": "stdout",
     "output_type": "stream",
     "text": [
      "image 0 with true class [6].\n",
      "[[ 14.7795315 -16.033014   -7.024896    9.977897   11.22751   -16.16437\n",
      "    7.8197002   4.074183    5.8869777 -14.540079 ]]\n",
      "Predicted: [('n04286575', 'spotlight', 0.26314655), ('n03929660', 'pick', 0.16706955), ('n03825788', 'nipple', 0.10934507)]\n",
      "image 1 with true class [9].\n",
      "[[ 32.848934 -16.68403  -20.02214   18.785631  10.465119 -27.719837\n",
      "   11.982898   9.619954   4.09353  -23.364048]]\n",
      "Predicted: [('n03796401', 'moving_van', 0.7277919), ('n04266014', 'space_shuttle', 0.08141206), ('n03000247', 'chain_mail', 0.016487233)]\n",
      "image 2 with true class [9].\n",
      "[[ 71.24336    -2.2512615 -22.91233    23.007378   -5.255525  -22.599403\n",
      "    9.016327   11.535552  -21.064     -40.7118   ]]\n",
      "Predicted: [('n04428191', 'thresher', 0.5652591), ('n03000684', 'chain_saw', 0.070295684), ('n04456115', 'torch', 0.06083921)]\n",
      "image 3 with true class [4].\n",
      "[[ 13.996975   -11.512668    -7.125654     7.8541512    7.7730155\n",
      "  -13.107083     6.7895236    5.304002     0.37762475 -10.347147  ]]\n",
      "Predicted: [('n02074367', 'dugong', 0.1720074), ('n01990800', 'isopod', 0.0550557), ('n01930112', 'nematode', 0.052336015)]\n",
      "image 4 with true class [1].\n",
      "[[ 35.705     -13.716968  -16.424849   12.048606    4.694481  -20.476734\n",
      "    9.938439   10.447709   -2.1280365 -20.08229  ]]\n",
      "Predicted: [('n04456115', 'torch', 0.6478058), ('n03764736', 'milk_can', 0.106012516), ('n02783161', 'ballpoint', 0.08268216)]\n",
      "image 5 with true class [1].\n",
      "[[ 22.441061  -16.462025  -10.494742   10.437356   10.622334  -15.895503\n",
      "    7.7206416   7.0339994  -2.4332347 -12.966209 ]]\n",
      "Predicted: [('n04579145', 'whiskey_jug', 0.12748592), ('n03720891', 'maraca', 0.07188077), ('n04127249', 'safety_pin', 0.069639675)]\n",
      "image 6 with true class [2].\n",
      "[[ 20.576933  -20.773106  -12.084003   16.590034    8.895992  -16.365067\n",
      "    7.022025    7.4609594   4.1722784 -15.492239 ]]\n",
      "Predicted: [('n02013706', 'limpkin', 0.2923012), ('n02090379', 'redbone', 0.068455555), ('n02112706', 'Brabancon_griffon', 0.060613338)]\n",
      "image 7 with true class [7].\n",
      "[[ 19.788582  -25.477226   -8.985607   13.107683   14.53512   -17.817307\n",
      "    8.356112    3.2517035  12.056473  -18.811302 ]]\n",
      "Predicted: [('n02415577', 'bighorn', 0.17625082), ('n02389026', 'sorrel', 0.12015227), ('n02395406', 'hog', 0.11746928)]\n",
      "image 8 with true class [8].\n",
      "[[ 30.480152  -27.137642  -13.799349   16.22112    16.976465  -20.696236\n",
      "   10.578277    5.070405    7.4338245 -25.1217   ]]\n",
      "Predicted: [('n04266014', 'space_shuttle', 0.086034395), ('n02783161', 'ballpoint', 0.08497183), ('n03062245', 'cocktail_shaker', 0.08286395)]\n",
      "image 9 with true class [3].\n",
      "[[ 32.658535    -6.9377666  -11.115896     9.719065    -0.20307821\n",
      "  -14.506865     5.8407273    7.406514    -5.0779843  -17.778688  ]]\n",
      "Predicted: [('n04127249', 'safety_pin', 0.14030954), ('n03658185', 'letter_opener', 0.070594504), ('n02951585', 'can_opener', 0.050077263)]\n"
     ]
    }
   ],
   "source": [
    "for i in range(10):\n",
    "    image = x_train[i]\n",
    "    image *= 255\n",
    "    image = image[None, ...]\n",
    "    image = image.reshape(1, 3, 32, 32)\n",
    "    pred = l_model.predict(image)\n",
    "    \n",
    "    image = image.reshape(1, 32, 32, 3)\n",
    "    image = tf.image.resize(image, (224, 224))\n",
    "    \n",
    "    pred2 = def_model.predict(image)\n",
    "    print(\"image {} with true class {}.\".format(i, y_train[i]))\n",
    "    print(pred)\n",
    "    print('Predicted:', resnet50.decode_predictions(pred2, top=3)[0])"
   ]
  },
  {
   "cell_type": "code",
   "execution_count": null,
   "metadata": {},
   "outputs": [],
   "source": []
  }
 ],
 "metadata": {
  "kernelspec": {
   "display_name": "Python 3",
   "language": "python",
   "name": "python3"
  },
  "language_info": {
   "codemirror_mode": {
    "name": "ipython",
    "version": 3
   },
   "file_extension": ".py",
   "mimetype": "text/x-python",
   "name": "python",
   "nbconvert_exporter": "python",
   "pygments_lexer": "ipython3",
   "version": "3.6.8"
  },
  "varInspector": {
   "cols": {
    "lenName": 16,
    "lenType": 16,
    "lenVar": 40
   },
   "kernels_config": {
    "python": {
     "delete_cmd_postfix": "",
     "delete_cmd_prefix": "del ",
     "library": "var_list.py",
     "varRefreshCmd": "print(var_dic_list())"
    },
    "r": {
     "delete_cmd_postfix": ") ",
     "delete_cmd_prefix": "rm(",
     "library": "var_list.r",
     "varRefreshCmd": "cat(var_dic_list()) "
    }
   },
   "types_to_exclude": [
    "module",
    "function",
    "builtin_function_or_method",
    "instance",
    "_Feature"
   ],
   "window_display": false
  }
 },
 "nbformat": 4,
 "nbformat_minor": 2
}
