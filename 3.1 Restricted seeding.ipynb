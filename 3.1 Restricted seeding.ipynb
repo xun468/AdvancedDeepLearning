{
 "cells": [
  {
   "cell_type": "code",
   "execution_count": 1,
   "metadata": {},
   "outputs": [],
   "source": [
    "from torch_pgd import pgd_attack\n",
    "from utils import get_pretrained_model\n",
    "\n",
    "import torch as ch\n",
    "import numpy as np\n",
    "import matplotlib.pyplot as plt\n",
    "from PIL import Image\n",
    "import torchvision.transforms as transforms\n",
    "from Generator import SeedGenerator\n",
    "\n",
    "import os, random\n",
    "import torchvision.transforms.functional as TF\n",
    "from torch.utils.data import Dataset, DataLoader"
   ]
  },
  {
   "cell_type": "code",
   "execution_count": 2,
   "metadata": {},
   "outputs": [],
   "source": [
    "def tensor2pic(ImA, pop_img=False, save=False, name=\"pil_image.png\", verbose=False):\n",
    "    ImA = ImA[0].numpy()\n",
    "    ImA = ImA.transpose(1, 2, 0)\n",
    "    img = Image.fromarray(np.uint8(ImA * 255), 'RGB')\n",
    "    if save:\n",
    "        if verbose:\n",
    "            print(\"Storing image:\", name)\n",
    "        img.save(name)\n",
    "    if pop_img:\n",
    "        img.show()\n",
    "    else:\n",
    "        return img"
   ]
  },
  {
   "cell_type": "code",
   "execution_count": 4,
   "metadata": {},
   "outputs": [],
   "source": [
    "# Storage details\n",
    "save_images = True\n",
    "title = \"5_\"\n",
    "save_path = 'Results/restrict/'\n",
    "images = []"
   ]
  },
  {
   "cell_type": "code",
   "execution_count": 5,
   "metadata": {},
   "outputs": [],
   "source": [
    "# Parameters\n",
    "eps = 50\n",
    "steps = 50\n",
    "step_size = 0.2\n",
    "targeted_attack = True\n",
    "norm = 'l2'\n",
    "verbose = False\n",
    "\n",
    "reps = 3"
   ]
  },
  {
   "cell_type": "code",
   "execution_count": 6,
   "metadata": {},
   "outputs": [],
   "source": [
    "# Models and datasets\n",
    "model_name = 'RestrictedImageNet'\n",
    "dataset_path = \"datasets/\"\n",
    "datasets = ['cat2/', 'frog2/', 'bird/']\n",
    "classes = [1, 2, 4]"
   ]
  },
  {
   "cell_type": "code",
   "execution_count": 7,
   "metadata": {},
   "outputs": [
    {
     "name": "stdout",
     "output_type": "stream",
     "text": [
      "tensor([0.4615, 0.4542, 0.4609,  ..., 0.3818, 0.3837, 0.3787])\n",
      "9408\n",
      "tensor([[0.1002, 0.0934, 0.0893,  ..., 0.0123, 0.0142, 0.0158],\n",
      "        [0.0934, 0.0979, 0.0915,  ..., 0.0118, 0.0134, 0.0147],\n",
      "        [0.0893, 0.0915, 0.0961,  ..., 0.0132, 0.0152, 0.0160],\n",
      "        ...,\n",
      "        [0.0123, 0.0118, 0.0132,  ..., 0.0756, 0.0707, 0.0676],\n",
      "        [0.0142, 0.0134, 0.0152,  ..., 0.0707, 0.0781, 0.0725],\n",
      "        [0.0158, 0.0147, 0.0160,  ..., 0.0676, 0.0725, 0.0780]])\n",
      "DONE UNO\n",
      "tensor([0.4157, 0.4147, 0.4182,  ..., 0.3150, 0.3177, 0.3124])\n",
      "9408\n",
      "tensor([[0.0612, 0.0535, 0.0511,  ..., 0.0083, 0.0085, 0.0077],\n",
      "        [0.0535, 0.0606, 0.0545,  ..., 0.0086, 0.0083, 0.0083],\n",
      "        [0.0511, 0.0545, 0.0606,  ..., 0.0093, 0.0093, 0.0092],\n",
      "        ...,\n",
      "        [0.0083, 0.0086, 0.0093,  ..., 0.0575, 0.0495, 0.0448],\n",
      "        [0.0085, 0.0083, 0.0093,  ..., 0.0495, 0.0593, 0.0508],\n",
      "        [0.0077, 0.0083, 0.0092,  ..., 0.0448, 0.0508, 0.0588]])\n",
      "DONE UNO\n",
      "tensor([0.4746, 0.4684, 0.4703,  ..., 0.4097, 0.4097, 0.4141])\n",
      "9408\n",
      "tensor([[0.0517, 0.0454, 0.0443,  ..., 0.0105, 0.0116, 0.0113],\n",
      "        [0.0454, 0.0510, 0.0464,  ..., 0.0101, 0.0114, 0.0103],\n",
      "        [0.0443, 0.0464, 0.0516,  ..., 0.0103, 0.0115, 0.0104],\n",
      "        ...,\n",
      "        [0.0105, 0.0101, 0.0103,  ..., 0.0584, 0.0502, 0.0476],\n",
      "        [0.0116, 0.0114, 0.0115,  ..., 0.0502, 0.0600, 0.0524],\n",
      "        [0.0113, 0.0103, 0.0104,  ..., 0.0476, 0.0524, 0.0600]])\n",
      "DONE UNO\n"
     ]
    }
   ],
   "source": [
    "_, model = get_pretrained_model(model_name)\n",
    "model.eval()\n",
    "\n",
    "for k, dataset in enumerate(datasets):\n",
    "    sg = SeedGenerator(dataset_path + dataset)\n",
    "    sg.load_data()\n",
    "    sg.generate_dist()\n",
    "    \n",
    "    print(sg.sigma)\n",
    "    \n",
    "    print(\"DONE UNO\")\n",
    "    \n",
    "    for i in range(reps):\n",
    "        seed = sg.sample()\n",
    "        \n",
    "        tensor2pic(seed, save=True, name=save_path+title+dataset[:3]+'seed'+str(i)+\".png\", verbose=verbose)\n",
    "        \n",
    "        out_img = pgd_attack(seed, eps=eps, model=model, steps=steps, step_size=step_size, \n",
    "                            targeted_attack=targeted_attack, target_class=classes[k], \n",
    "                            norm=norm, verbose=verbose)\n",
    "    \n",
    "        tensor2pic(out_img, save=True, name=save_path+title+dataset[:3]+'gene'+str(i)+\".png\", verbose=verbose)\n",
    "    "
   ]
  },
  {
   "cell_type": "code",
   "execution_count": 8,
   "metadata": {},
   "outputs": [
    {
     "data": {
      "text/plain": [
       "tensor([0.4746, 0.4684, 0.4703,  ..., 0.4097, 0.4097, 0.4141])"
      ]
     },
     "execution_count": 8,
     "metadata": {},
     "output_type": "execute_result"
    }
   ],
   "source": [
    "sg.mu"
   ]
  },
  {
   "cell_type": "code",
   "execution_count": 9,
   "metadata": {},
   "outputs": [
    {
     "data": {
      "text/plain": [
       "9408"
      ]
     },
     "execution_count": 9,
     "metadata": {},
     "output_type": "execute_result"
    }
   ],
   "source": [
    "len(sg.mu)"
   ]
  },
  {
   "cell_type": "code",
   "execution_count": 10,
   "metadata": {},
   "outputs": [
    {
     "data": {
      "text/plain": [
       "9408"
      ]
     },
     "execution_count": 10,
     "metadata": {},
     "output_type": "execute_result"
    }
   ],
   "source": [
    "56*56*3"
   ]
  },
  {
   "cell_type": "code",
   "execution_count": 11,
   "metadata": {},
   "outputs": [
    {
     "data": {
      "text/plain": [
       "96.99484522385713"
      ]
     },
     "execution_count": 11,
     "metadata": {},
     "output_type": "execute_result"
    }
   ],
   "source": [
    "9408**0.5"
   ]
  }
 ],
 "metadata": {
  "kernelspec": {
   "display_name": "Python 3",
   "language": "python",
   "name": "python3"
  },
  "language_info": {
   "codemirror_mode": {
    "name": "ipython",
    "version": 3
   },
   "file_extension": ".py",
   "mimetype": "text/x-python",
   "name": "python",
   "nbconvert_exporter": "python",
   "pygments_lexer": "ipython3",
   "version": "3.6.8"
  },
  "varInspector": {
   "cols": {
    "lenName": 16,
    "lenType": 16,
    "lenVar": 40
   },
   "kernels_config": {
    "python": {
     "delete_cmd_postfix": "",
     "delete_cmd_prefix": "del ",
     "library": "var_list.py",
     "varRefreshCmd": "print(var_dic_list())"
    },
    "r": {
     "delete_cmd_postfix": ") ",
     "delete_cmd_prefix": "rm(",
     "library": "var_list.r",
     "varRefreshCmd": "cat(var_dic_list()) "
    }
   },
   "types_to_exclude": [
    "module",
    "function",
    "builtin_function_or_method",
    "instance",
    "_Feature"
   ],
   "window_display": false
  }
 },
 "nbformat": 4,
 "nbformat_minor": 2
}
