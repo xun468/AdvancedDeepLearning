{
 "cells": [
  {
   "cell_type": "code",
   "execution_count": 12,
   "metadata": {},
   "outputs": [],
   "source": [
    "from art.utils import load_dataset\n",
    "from art.classifiers import KerasClassifier\n",
    "from keras import applications\n",
    "from keras.models import load_model\n",
    "from Generator import Generator\n",
    "import matplotlib.pyplot as plt\n",
    "import tensorflow as tf\n",
    "\n",
    "from ProjectedGradientDescent import ProjectedGradientDescent\n",
    "import numpy as np"
   ]
  },
  {
   "cell_type": "code",
   "execution_count": 4,
   "metadata": {},
   "outputs": [],
   "source": [
    "def savefig(img, path, interpolate=False):\n",
    "    if interpolate:\n",
    "        fig = plt.imshow(img, interpolation='bicubic')\n",
    "    else:\n",
    "        fig = plt.imshow(img)\n",
    "    plt.axis('off')\n",
    "    fig.axes.get_xaxis().set_visible(False)\n",
    "    fig.axes.get_yaxis().set_visible(False)\n",
    "    plt.savefig(path+'.png', bbox_inches='tight', pad_inches = 0.)"
   ]
  },
  {
   "cell_type": "code",
   "execution_count": 5,
   "metadata": {},
   "outputs": [],
   "source": [
    "model = load_model(\"stage3.h5\")\n",
    "classifier = KerasClassifier(model=model, clip_values=(0., 1.))"
   ]
  },
  {
   "cell_type": "code",
   "execution_count": 6,
   "metadata": {},
   "outputs": [],
   "source": [
    "#Adv attack\n",
    "eps = 30\n",
    "steps = 2\n",
    "step_size = 0.05"
   ]
  },
  {
   "cell_type": "code",
   "execution_count": 7,
   "metadata": {},
   "outputs": [],
   "source": [
    "# Saving\n",
    "save_path = \"Results/cifar/\"\n",
    "title = \"NEWDEAL_\"\n",
    "save = True"
   ]
  },
  {
   "cell_type": "code",
   "execution_count": 8,
   "metadata": {},
   "outputs": [],
   "source": [
    "generator = Generator()\n",
    "generator.calc_class_stats()"
   ]
  },
  {
   "cell_type": "code",
   "execution_count": null,
   "metadata": {},
   "outputs": [],
   "source": [
    "for i in range(9):\n",
    "    print(\"Doing class {}.......\".format(i), end='')\n",
    "    seed = generator.generate_seed(5)\n",
    "    savefig(seed, save_path+title+str(5)+'-'+str(5)+'_seed')\n",
    "       \n",
    "    prob = tf.one_hot([i], 10)\n",
    "    \n",
    "    pgd = ProjectedGradientDescent(model, seed, prob, steps, step_size, eps)\n",
    "    img_gen = pgd.gen_adv_example()\n",
    "\n",
    "    savefig(img_gen[0], save_path+title+str(i)+'_gen')\n",
    "    savefig(img_gen[0], save_path+title+str(i)+'_int', True)\n",
    "       \n",
    "    print(\"Done!\")"
   ]
  }
 ],
 "metadata": {
  "kernelspec": {
   "display_name": "Python 3",
   "language": "python",
   "name": "python3"
  },
  "language_info": {
   "codemirror_mode": {
    "name": "ipython",
    "version": 3
   },
   "file_extension": ".py",
   "mimetype": "text/x-python",
   "name": "python",
   "nbconvert_exporter": "python",
   "pygments_lexer": "ipython3",
   "version": "3.6.8"
  },
  "varInspector": {
   "cols": {
    "lenName": 16,
    "lenType": 16,
    "lenVar": 40
   },
   "kernels_config": {
    "python": {
     "delete_cmd_postfix": "",
     "delete_cmd_prefix": "del ",
     "library": "var_list.py",
     "varRefreshCmd": "print(var_dic_list())"
    },
    "r": {
     "delete_cmd_postfix": ") ",
     "delete_cmd_prefix": "rm(",
     "library": "var_list.r",
     "varRefreshCmd": "cat(var_dic_list()) "
    }
   },
   "types_to_exclude": [
    "module",
    "function",
    "builtin_function_or_method",
    "instance",
    "_Feature"
   ],
   "window_display": false
  }
 },
 "nbformat": 4,
 "nbformat_minor": 2
}
